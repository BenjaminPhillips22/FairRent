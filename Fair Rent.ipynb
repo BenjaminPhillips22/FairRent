{
 "cells": [
  {
   "cell_type": "markdown",
   "metadata": {},
   "source": [
    "### Fair Rent\n",
    "\n",
    "Ben Phillips\n",
    "[portfolio website](https://benjaminphillips22.github.io).\n",
    "\n",
    "The python script in this notebook can also be found [here](github...)"
   ]
  },
  {
   "cell_type": "markdown",
   "metadata": {},
   "source": [
    "#### Problem and Motivation\n",
    "\n",
    "When my housemates and I moved into our new home, we had to decide who would get which room and at what price. The rooms were different sizes and one had an ensuite, so it wouldn’t be fair to split the rent equally between us.\n",
    "\n",
    "Here I will present a potential method for assigning and pricing the rooms.\n",
    "The housemates individually (and privately) determine what they would value each room at, with these values adding up to the total rent. For example, if the monthly rent for the house is \\$1000 a month, housemate 1 may value room 1 at \\$200, room 2 at \\$300 and room 3 at \\$500. It is important not to think of these values as bids, but rather what the housemate would be happy to pay if they were assigned to that room.\n",
    "\n",
    "The objective function for this problem is to maximise the minimum utility.\n",
    "\n",
    "I define ‘Utility’ as the difference between what a housemate was willing to pay for the room assigned to them, and what they actually have to pay. For our example with housemate 1, if they are assigned to room 1 with rent being \\$150 per month, that would have a utility of \\$50.\n",
    "This objective function has several desirable outcomes for allocating rooms and determining prices. It assigns rooms to maximise the sum of what each housemate valued their assigned room at. This can be thought of as getting the most ‘value’ out of the house. Once the rooms are assigned, the sum of what each housemate valued their assigned room at will be larger than the total rent (unless all housemates had identical preferences). This means that each housemate’s rent needs to be reduced by a certain amount, what I have defined as utility. By maximising the minimum utility, we can determine the fairest way to divide the rent.\n",
    "\n",
    "Lastly, in addition to the objective, there is a constraint that makes this solution ‘Envy Free’. Room and rent are ‘envy free’ if no housemate would wish to swap rooms with anyone else. Going back to our example with housemate 1, if they were assigned room 1 at \\$150 and housemate 2 was assigned room 3 at \\$400, then housemate 1 would want to swap. Housemate 1 would have a utility of \\$50 for their assigned room but could have a utility of \\$100 (\\$400 is \\$100 less than what housemate 1 values room 3 at) if they swapped with housemate 2. This would not be an ‘envy free’ solution.\n",
    "\n",
    "The algorithm used here was first described in this paper, [Which Is the Fairest (Rent Division) of Them All?](http://procaccia.info/papers/rent.pdf)"
   ]
  },
  {
   "cell_type": "markdown",
   "metadata": {},
   "source": [
    "Install packages and initialise the solver"
   ]
  },
  {
   "cell_type": "code",
   "execution_count": 1,
   "metadata": {
    "collapsed": true
   },
   "outputs": [],
   "source": [
    "from ortools.linear_solver import pywraplp\n",
    "from itertools import permutations\n",
    "\n",
    "solver = pywraplp.Solver('SolveIntegerProblem', pywraplp.Solver.CBC_MIXED_INTEGER_PROGRAMMING)\n"
   ]
  },
  {
   "cell_type": "markdown",
   "metadata": {},
   "source": [
    "Create the Decision Varibles"
   ]
  },
  {
   "cell_type": "code",
   "execution_count": 2,
   "metadata": {
    "collapsed": true
   },
   "outputs": [],
   "source": [
    "\n",
    "DV = {}\n",
    "\n",
    "# The rent that each housemate will pay for the room assigned to them.\n",
    "for h in range(1, 4):\n",
    "    name = 'H'+str(h)\n",
    "    DV[name] = solver.NumVar(0.0, solver.infinity(), name)\n",
    "\n",
    "# Assigned Rooms\n",
    "# These values will be 0 or 1 depending on which room a housemate is assigned to. For example, if\n",
    "# housemate 1 is assigned to room 1, then H1_R1 will equal 1 and H1_R2 and H1_R3 will equal 0.\n",
    "for h in range(1, 4):\n",
    "    for r in range(1, 4):\n",
    "        name = 'H' + str(h) + '_R' + str(r)\n",
    "        DV[name] = solver.IntVar(0.0, 1.0, name)\n",
    "        \n",
    "# Define house mate utilities for convenience\n",
    "for i in range(1, 4):\n",
    "    for j in range(1, 4):\n",
    "        name = 'H' + str(i) + '_swap_H' + str(j) + '_utility'\n",
    "        DV[name] = solver.NumVar(-solver.infinity(), solver.infinity(), name)\n",
    "\n",
    "# Minimum Utility, the minimum of the three house mate utilities.\n",
    "DV['min_stay_utility'] = solver.NumVar(-solver.infinity(), solver.infinity(), 'min__stay_utility')\n"
   ]
  },
  {
   "cell_type": "markdown",
   "metadata": {},
   "source": [
    "Enter the house mate preferences"
   ]
  },
  {
   "cell_type": "code",
   "execution_count": 3,
   "metadata": {
    "collapsed": true
   },
   "outputs": [],
   "source": [
    "H1_preferences = [35, 50, 65]\n",
    "H2_preferences = [45, 52, 53]\n",
    "H3_preferences = [30, 45, 75]\n",
    "\n",
    "# check prefences all sum to the same amount\n",
    "assert sum(H1_preferences) == sum(H2_preferences) == sum(H3_preferences)\n",
    "\n",
    "preferences = {}\n",
    "H_list = [H1_preferences, H2_preferences, H3_preferences]\n",
    "\n",
    "for index, h in enumerate(H_list):\n",
    "    for r in range(0, 3):\n",
    "        name = 'H' + str(index+1) + '_R' + str(r+1)\n",
    "        preferences[name] = h[r]\n"
   ]
  },
  {
   "cell_type": "markdown",
   "metadata": {},
   "source": [
    "Create the constraints\n",
    "\n",
    "For convenience, H1_utility is written as H1_swap_H1_utility"
   ]
  },
  {
   "cell_type": "code",
   "execution_count": 4,
   "metadata": {
    "collapsed": true
   },
   "outputs": [],
   "source": [
    "# The rents will sum to the total rent\n",
    "# H1 + H2 + H3 == 150\n",
    "c0 = solver.Constraint(sum(H1_preferences), sum(H1_preferences))\n",
    "for h in range(1, 4):\n",
    "    name = 'H' + str(h)\n",
    "    c0.SetCoefficient(DV[name], 1)\n",
    "\n",
    "# One room per housemate\n",
    "# H1_R1 + H1_R2 + H1_R3 == 1\n",
    "# H2_R1 + H2_R2 + H2_R3 == 1\n",
    "# H3_R1 + H3_R2 + H3_R3 == 1\n",
    "for h in range(1, 4):\n",
    "    c = solver.Constraint(1, 1)\n",
    "    for r in range(1, 4):\n",
    "        c.SetCoefficient(DV['H' + str(h) + '_R' + str(r)], 1)\n",
    "\n",
    "# One housemate per room\n",
    "# H1_R1 + H2_R1 + H3_R1 == 1\n",
    "# H1_R2 + H2_R2 + H3_R2 == 1\n",
    "# H1_R3 + H2_R3 + H3_R3 == 1\n",
    "for r in range(1, 4):\n",
    "    c = solver.Constraint(1, 1)\n",
    "    for h in range(1, 4):\n",
    "        c.SetCoefficient(DV['H' + str(h) + '_R' + str(r)], 1)\n",
    "\n",
    "# Utility\n",
    "# H1_utility = H1_R1*35 + H1_R2*50 + H1_R3*65 – H1\n",
    "# H2_utility = H2_R1*45 + H2_R2*52 + H2_R3*53 – H2\n",
    "# H3_utility = H3_R1*30 + H3_R2*45 + H3_R3*75 – H3\n",
    "# Utility of swapped rooms.\n",
    "# H1_swap_H2_utility = H2_R1*35 + H2_R2*50 + H2_R3*65 – H2\n",
    "# H1_swap_H3_utility = H3_R1*35 + H3_R2*50 + H3_R3*65 – H3\n",
    "# H2_swap_H1_utility = H1_R1*45 + H1_R2*52 + H1_R3*53 – H1\n",
    "# H2_swap_H3_utility = H3_R1*45 + H3_R2*52 + H3_R3*53 – H3\n",
    "# H3_swap_H1_utility = H1_R1*30 + H1_R2*45 + H1_R3*75 – H1\n",
    "# H3_swap_H2_utility = H2_R1*30 + H2_R2*45 + H2_R3*75 – H2\n",
    "for h_i in range(1, 4):\n",
    "    for h_j in range(1, 4):\n",
    "        c = solver.Constraint(0.0, 0.0)\n",
    "        name = 'H' + str(h_i) + '_swap_H' + str(h_j) + '_utility'\n",
    "        c.SetCoefficient(DV[name], -1)\n",
    "        c.SetCoefficient(DV['H' + str(h_j)], -1)\n",
    "        for r in range(1, 4):\n",
    "            c.SetCoefficient(DV['H' + str(h_j) + '_R' + str(r)], preferences['H' + str(h_i) + '_R' + str(r)])\n",
    "        \n",
    "# H1_swap_H2_utility, H1_swap_H3_utility <= H1_utility\n",
    "# H2_swap_H1_utility, H2_swap_H3_utility <= H2_utility\n",
    "# H3_swap_H1_utility, H3_swap_H2_utility <= H3_utility\n",
    "perm = permutations([1, 2, 3], 2) \n",
    "for h_i, h_j in perm:\n",
    "    # print(a, ' ', b)\n",
    "    c = solver.Constraint(-solver.infinity(), 0.0)\n",
    "    c.SetCoefficient(DV['H' + str(h_i) + '_swap_H' + str(h_i) + '_utility'], -1)\n",
    "    c.SetCoefficient(DV['H' + str(h_i) + '_swap_H' + str(h_j) + '_utility'], 1)\n",
    "\n",
    "# Make the min_stay_utility smaller or equal to the house mate\n",
    "# utilities for staying\n",
    "for h in range(1, 4):\n",
    "    c = solver.Constraint(-solver.infinity(), 0.0)\n",
    "    c.SetCoefficient(DV['min_stay_utility'], 1)\n",
    "    c.SetCoefficient(DV['H' + str(h) + '_swap_H' + str(h) + '_utility'], -1)\n"
   ]
  },
  {
   "cell_type": "markdown",
   "metadata": {},
   "source": [
    "Create the objective function"
   ]
  },
  {
   "cell_type": "code",
   "execution_count": 5,
   "metadata": {
    "collapsed": true
   },
   "outputs": [],
   "source": [
    "objective = solver.Objective()\n",
    "objective.SetCoefficient(DV['min_stay_utility'], 1)\n",
    "\n",
    "objective.SetMaximization()\n"
   ]
  },
  {
   "cell_type": "markdown",
   "metadata": {},
   "source": [
    "Solve the problem and print the solution."
   ]
  },
  {
   "cell_type": "code",
   "execution_count": 6,
   "metadata": {},
   "outputs": [
    {
     "name": "stdout",
     "output_type": "stream",
     "text": [
      "Number of variables = 22\n",
      "Number of constraints = 25\n",
      "Optimal objective value = 6\n",
      "\n",
      "H1  =  44\n",
      "H2  =  37\n",
      "H3  =  69\n",
      "H1_R1  =  0\n",
      "H1_R2  =  1\n",
      "H1_R3  =  0\n",
      "H2_R1  =  1\n",
      "H2_R2  =  0\n",
      "H2_R3  =  0\n",
      "H3_R1  =  0\n",
      "H3_R2  =  0\n",
      "H3_R3  =  1\n",
      "H1_swap_H1_utility  =  6\n",
      "H1_swap_H2_utility  =  -2\n",
      "H1_swap_H3_utility  =  -4\n",
      "H2_swap_H1_utility  =  8\n",
      "H2_swap_H2_utility  =  8\n",
      "H2_swap_H3_utility  =  -16\n",
      "H3_swap_H1_utility  =  1\n",
      "H3_swap_H2_utility  =  -7\n",
      "H3_swap_H3_utility  =  6\n",
      "min_stay_utility  =  6\n"
     ]
    }
   ],
   "source": [
    "\n",
    "result_status = solver.Solve()\n",
    "# The problem has an optimal solution.\n",
    "assert result_status == pywraplp.Solver.OPTIMAL\n",
    "\n",
    "# The solution looks legit (when using solvers other than\n",
    "# GLOP_LINEAR_PROGRAMMING, verifying the solution is highly recommended!).\n",
    "assert solver.VerifySolution(1e-7, True)\n",
    "\n",
    "print('Number of variables =', solver.NumVariables())\n",
    "print('Number of constraints =', solver.NumConstraints())\n",
    "\n",
    "# The objective value of the solution.\n",
    "print('Optimal objective value = %d' % solver.Objective().Value())\n",
    "print()\n",
    "# The value of each variable in the solution.\n",
    "\n",
    "\n",
    "for key, value in DV.items():\n",
    "    print(key, ' = ', round(value.solution_value()))\n"
   ]
  },
  {
   "cell_type": "markdown",
   "metadata": {},
   "source": [
    "You can see that house mates 1, 2 and 3 are assigned to rooms 2, 1 and 3, respectively. House mate one was willing to pay \\$50 for room 2, and instead is paying only \\$44, giving housemate 1 a utility of \\$6 which is seen in the value of 'H1_swap_H1_utility'. This utility is higher than if housemate 1 swapped rooms with either of the two other housemates.\n",
    "\n",
    "This algorithm produced \\$6, \\$8 and \\$6 of utility for house mates 1, 2 and 3, respectively. "
   ]
  },
  {
   "cell_type": "code",
   "execution_count": null,
   "metadata": {
    "collapsed": true
   },
   "outputs": [],
   "source": []
  },
  {
   "cell_type": "code",
   "execution_count": null,
   "metadata": {
    "collapsed": true
   },
   "outputs": [],
   "source": []
  }
 ],
 "metadata": {
  "kernelspec": {
   "display_name": "Python 3",
   "language": "python",
   "name": "python3"
  },
  "language_info": {
   "codemirror_mode": {
    "name": "ipython",
    "version": 3
   },
   "file_extension": ".py",
   "mimetype": "text/x-python",
   "name": "python",
   "nbconvert_exporter": "python",
   "pygments_lexer": "ipython3",
   "version": "3.6.1"
  }
 },
 "nbformat": 4,
 "nbformat_minor": 2
}
